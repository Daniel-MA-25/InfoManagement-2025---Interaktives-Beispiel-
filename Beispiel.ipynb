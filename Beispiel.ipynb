{
 "cells": [
  {
   "cell_type": "code",
   "execution_count": 1,
   "id": "862cc94d-6c1b-4299-a7a6-40435817fbee",
   "metadata": {},
   "outputs": [],
   "source": [
    "### Interaktives Beispiel für die lineare/multiple Regression\n",
    "import statsmodels.api as sm\n",
    "import statsmodels.formula.api as smf\n",
    "import pandas as pd\n",
    "import numpy as np\n",
    "import matplotlib.pyplot as plt"
   ]
  },
  {
   "cell_type": "code",
   "execution_count": null,
   "id": "d8e5b909-9ac9-4c1a-b50f-95e16f50e49c",
   "metadata": {},
   "outputs": [],
   "source": [
    "## Dataframe importieren/erstellen\n",
    "# Neuer Datensatz regression_gehalt  (Quelle: https://statistikguru.de/spss/multiple-lineare-regression/beispieldatensatz.html) \n",
    "# Geschlecht bereits metrisch skaliert (0=männlich, 1=weiblich)\n",
    "df_interaktiv = pd.read_csv(\"regression_gehalt.csv\")\n",
    "df_interaktiv"
   ]
  },
  {
   "cell_type": "code",
   "execution_count": null,
   "id": "05174231-0c92-43e9-93ff-36b70b11b649",
   "metadata": {},
   "outputs": [],
   "source": [
    "# Statistische Informationen anzeigen lassen (Anzahl, Durchschnitt, Standardabweichung, Minmum, Quartile / Median, Maximum)\n",
    "df_interaktiv.describe()"
   ]
  },
  {
   "cell_type": "code",
   "execution_count": null,
   "id": "56607659-0d9f-43f0-b09f-b1dab8e1f111",
   "metadata": {},
   "outputs": [],
   "source": [
    "# Datentypen des Dataframes überprüfen (=int)\n",
    "df_interaktiv.info() "
   ]
  },
  {
   "cell_type": "code",
   "execution_count": null,
   "id": "03e75b11-55fe-4605-9861-ade7550c9294",
   "metadata": {},
   "outputs": [],
   "source": [
    "# Boxplot erstellen für eine Variable\n",
    "df.plot(y=\"...\", kind=\"box\")"
   ]
  },
  {
   "cell_type": "code",
   "execution_count": null,
   "id": "1cbfb05a-6926-49da-b5a7-82f6808bc881",
   "metadata": {},
   "outputs": [],
   "source": [
    "# Verteilungen - Scatterplot 1\n",
    "# H1 - Hypothese? \n",
    "# abhängige Variable y = ...\n",
    "# unabhänige Varbialen x = ...\n",
    "df_interaktiv.plot(x= , y= , kind=\"scatter\")"
   ]
  },
  {
   "cell_type": "code",
   "execution_count": null,
   "id": "91dcae80-67ce-4b2b-94ea-0f04753284b5",
   "metadata": {},
   "outputs": [],
   "source": [
    "# Verteilungen - Scatterplot 2\n",
    "df_interaktiv.plot(x= , y= , kind=\"scatter\")"
   ]
  },
  {
   "cell_type": "code",
   "execution_count": null,
   "id": "69a21b5d-db75-4eae-b483-b1551c3059f1",
   "metadata": {},
   "outputs": [],
   "source": [
    "# Verteilungen - Scatterplot 3\n",
    "df_interaktiv.plot(x= , y= , kind=\"scatter\")"
   ]
  },
  {
   "cell_type": "code",
   "execution_count": null,
   "id": "d5323f5a-b79e-41fb-ab2d-54116f244de1",
   "metadata": {},
   "outputs": [],
   "source": [
    "# Lineare Regression 1\n",
    "lr1 = smf.ols(formula=\"... ~ ...\", data = df_interaktiv).fit()\n",
    "# formula = Abhängige Varibale y ~ beinflusst von unabhängiger Variable x\n",
    "print(lr1.summary())"
   ]
  },
  {
   "cell_type": "code",
   "execution_count": null,
   "id": "a7ffc616-6082-45aa-ada8-15afebc0c2b7",
   "metadata": {},
   "outputs": [],
   "source": [
    "# Lineare Regression 2\n",
    "lr2 = smf.ols(formula=\"... ~ ...\", data = df_interaktiv).fit()\n",
    "print(lr2.summary())"
   ]
  },
  {
   "cell_type": "code",
   "execution_count": null,
   "id": "f423c3a8-2be6-4fda-9484-9f51e00b32ee",
   "metadata": {},
   "outputs": [],
   "source": [
    "# Lineare Regression 3\n",
    "lr3 = smf.ols(formula=\"... ~ ...\", data = df_interaktiv).fit()\n",
    "print(lr3.summary())"
   ]
  },
  {
   "cell_type": "code",
   "execution_count": null,
   "id": "ccc8f566-d680-4285-968c-1b492344df0f",
   "metadata": {},
   "outputs": [],
   "source": [
    "# Multiple Regression (mlr)\n",
    "mlr = smf.ols(formula=\"... ~ ... + ... + ....\", data = df_interaktiv).fit()\n",
    "print(mlr.summary())"
   ]
  }
 ],
 "metadata": {
  "kernelspec": {
   "display_name": "Python 3 (ipykernel)",
   "language": "python",
   "name": "python3"
  },
  "language_info": {
   "codemirror_mode": {
    "name": "ipython",
    "version": 3
   },
   "file_extension": ".py",
   "mimetype": "text/x-python",
   "name": "python",
   "nbconvert_exporter": "python",
   "pygments_lexer": "ipython3",
   "version": "3.11.12"
  }
 },
 "nbformat": 4,
 "nbformat_minor": 5
}
